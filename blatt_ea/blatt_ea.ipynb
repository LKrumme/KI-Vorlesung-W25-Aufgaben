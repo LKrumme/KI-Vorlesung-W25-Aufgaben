{
 "cells": [
  {
   "cell_type": "markdown",
   "id": "19b5e8e6",
   "metadata": {},
   "source": [
    "# EA.01: Modellierung von GA\n",
    "1. Färbeproblem mit 5 verschiedenen Farben, \n",
    "    Ziel: Konfliktfreie Färbung mit einer minimalen Anzahl an Farben. \n",
    "\n",
    "2. 8-Queens-Problem \n",
    "\n",
    "Geben Sie an:  \n",
    "- Geeignete Kodierung der Individuen \n",
    "- passende Operatoren wie Crossover oder Mutation \n",
    "- Fitnessfunktion\n",
    "\n",
    "-> Begründen Sie Ihre Wahl!\n",
    "\n",
    "Was würden Sie noch benötigen um die Probleme mit Simulated Annealing lösen zu können? "
   ]
  },
  {
   "cell_type": "markdown",
   "id": "9e201102",
   "metadata": {},
   "source": [
    "## Färbeproblem \n",
    "\n",
    "1. Codierung der Individuen mit einem Array, das die Farben angibt: [A, B, C, D, E, F] (R, G, B, Y, M)\n",
    "\n",
    "2. Es soll einen Crossover zwischen den Eltern geben mit einer Wahrscheinlichkeit von 60%. Trennung an zufälliger Stelle\n",
    "    - Außerdem soll es Mutation geben, bei dem die Mutationswahrscheinlichkeit bei jedem Gen eines Individuum 0.01 beträgt. \n",
    "    - Alternativ könnte die mutationsrate auch 1/6 betragen\n",
    "\n",
    "3. Die Fitnessfunktion hat eine Sekundäre und Primäre Bedingung.\n",
    "    - Primäre Bedingung: Minimale Anzahl an Farben \n",
    "    - Sekundäre Bedingung: Konfliktfreie Färbung \n",
    "    - (-10\\*n_f) + (-2\\*n_k)\n",
    "    - n_f = Anzahl der insgesamten Farben \n",
    "    - n_k = Anzahl der Konflikte bei der Färbung\n",
    "    - max. fitness = -15\n",
    "\n",
    "\n",
    "## 8-Queens-Problem\n",
    "_Kann ich die Anzahl der Damen so Kontrollieren oder soll ich das durch die Fitnessfunktion geben?_\n",
    "\n",
    "\n",
    "1. Codierung der Individuen durch ein Spielfeld in dem die Königinnen schon gesetzt sind. Da nur eine Königin pro Reihe existieren kann wird auch nur eine Königin pro Reihe gesetzt. Die 1-8 geben die Stelle in der Reihe an. [1, 2, 3, 4, 5, 6, 7, 8] (1-8) \n",
    "\n",
    "2. Crossover mit 60% Wahrscheinlichkeit. Dabei soll die Trennung an einer zufälligen Stelle geschehen. \n",
    "    - Mutation mit einer Wahrscheinlichkeit von 0.01 oder 1/8\n",
    "\n",
    "3. Die Fitnessfunktion \n",
    "    - -1, wenn eine Königin in der Nähe \n",
    "    - -1, wenn gleiche Zahl vorhanden, da diese beiden sich dann treffen können.\n",
    "    - (-1\\*n_n) + (-1\\*n_r)\n",
    "    - n_n = Anzahl der Königinnen in der Nähe\n",
    "    - n_r = Anzahl der Königinnen in der gleichen Reihe \n",
    "    - max. fitness = 0 \n",
    "\n",
    "\n",
    "## Was würden Sie noch benötigen, um die obigen Probleme jeweils mit Simulated Annealing lösen zu können?\n",
    "- Es müsste noch festgelegt werden wie die fittesten Individuuen ausgewählt werden. \n",
    "- Dabei könnte man die Roulette-Selektion oder die Turnier-Selektion nehmen \n"
   ]
  },
  {
   "cell_type": "code",
   "execution_count": 181,
   "id": "86e36775",
   "metadata": {},
   "outputs": [
    {
     "data": {
      "text/plain": [
       "0.8333333333333334"
      ]
     },
     "execution_count": 181,
     "metadata": {},
     "output_type": "execute_result"
    }
   ],
   "source": [
    "import random as r\n",
    "\n",
    "\n",
    "class Faerbeproblem: \n",
    "\n",
    "    colors = [\"R\", \"G\", \"B\", \"Y\", \"M\"]\n",
    "\n",
    "    def __init__(self, max_gen: int = 100, n_pop: int = 100, n_tournaments = 10, tournament_size = 10, recombination_probability = 60, mutation_probability = 1):\n",
    "        self.max_gen = max_gen\n",
    "        self.n_pop = n_pop\n",
    "        self.n_tournaments = n_tournaments\n",
    "        self.tournament_size = tournament_size\n",
    "        self.recombination_probability = recombination_probability\n",
    "        self.mutation_probability = mutation_probability\n",
    "\n",
    "    def init_population(self):\n",
    "        self.population = [[r.choice(self.colors) for i in range(6)] for i in range(self.n_pop)]\n",
    "\n",
    "    def fitness(self, individual: list[str]): \n",
    "        \"\"\"Determines the fitness for one individual\"\"\"\n",
    "        n_f = len(set(individual))\n",
    "        #Constraints: A/=B,  A/=C, B/=C, B/=D, C/=D, D/=E\n",
    "        constraints = {(0,1), (0,2), (1,2), (1,3), (2,3), (3,4)}\n",
    "\n",
    "        n_k = 0\n",
    "        for i in constraints:\n",
    "            if individual[i[0]] == individual[i[1]]:\n",
    "                n_k+=1\n",
    "        \n",
    "        #Maximale Fitness ist -15\n",
    "        return -15 / (n_k*-3 + n_f*-5)\n",
    "\n",
    "    def recombination(self, parent1: list[str], parent2: list[str]):\n",
    "        if len(parent1) != len(parent2): \n",
    "            raise\n",
    "        if r.randint(1,100) > self.recombination_probability: \n",
    "            return parent1, parent2\n",
    "        \n",
    "        child1 = parent1.copy()\n",
    "        child2 = parent2.copy()\n",
    "        #zufällig trennen \n",
    "        cut = r.randint(1, len(parent1)-1)\n",
    "        #Gene tauschen \n",
    "        for i in range(cut):\n",
    "            child1[i] = parent2[i]\n",
    "            child2[i] = parent1[i]\n",
    "    \n",
    "        return child1, child2\n",
    "        \n",
    "    def mutation(self, individual: list[str]):\n",
    "        #Chance von 0.01\n",
    "        mutated = individual.copy()\n",
    "        for i in range(len(individual)): \n",
    "            if r.randint(1,100) > self.mutation_probability: \n",
    "                mutated[i] = r.choice(self.colors)\n",
    "        return mutated \n",
    "\n",
    "    def selection(self):\n",
    "        mating_pool = []\n",
    "        tournament_pool = []\n",
    "\n",
    "        for i in range(self.n_tournaments): \n",
    "            for j in range(self.tournament_size):\n",
    "                tournament_pool.append(r.choice(self.population))\n",
    "\n",
    "            fittest_individual = tournament_pool[0]\n",
    "\n",
    "            for j in tournament_pool:\n",
    "                if self.fitness(j) > self.fitness(fittest_individual):\n",
    "                    fittest_individual = j\n",
    "            tournament_pool = []\n",
    "            mating_pool.append(fittest_individual)\n",
    "        \n",
    "        return mating_pool\n",
    "\n",
    "    def let_the_games_begin(self): \n",
    "        self.init_population()\n",
    "        curr_gen = 0\n",
    "        new_population = []\n",
    "        while self.max_gen > curr_gen: \n",
    "            print(self.population)\n",
    "            population_fitness = [self.fitness(i) for i in self.population]\n",
    "            \n",
    "            # 2. Abbruchbedingung \n",
    "            if 1.0 in population_fitness: \n",
    "                print(\"Lösung gefunden:\" + str(self.population[population_fitness.index(1.0)]))\n",
    "                print(\"nach: \"+ str(curr_gen) +\" Generationen\")\n",
    "                break\n",
    "            # Selection \n",
    "            mating_pool = self.selection()\n",
    "\n",
    "            # Recombination\n",
    "            for i in range(int(self.n_pop/2)):\n",
    "                x,y = self.recombination(r.choice(mating_pool), r.choice(mating_pool))\n",
    "                new_population.append(x)\n",
    "                new_population.append(y)\n",
    "                                \n",
    "            # Mutation\n",
    "            new_population = [self.mutation(i) for i in new_population]\n",
    "            \n",
    "            self.population = new_population.copy()\n",
    "            new_population = []\n",
    "            curr_gen+=1\n",
    "f = Faerbeproblem(n_pop=10, tournament_size=5, n_tournaments=5)\n",
    "f.fitness(['B', 'B', 'M', 'G', 'B', 'G'])\n"
   ]
  },
  {
   "cell_type": "code",
   "execution_count": 192,
   "id": "51926e79",
   "metadata": {},
   "outputs": [
    {
     "name": "stdout",
     "output_type": "stream",
     "text": [
      "[['B', 'G', 'G', 'B', 'M', 'G'], ['Y', 'M', 'B', 'R', 'G', 'Y'], ['B', 'Y', 'B', 'G', 'G', 'Y'], ['Y', 'B', 'M', 'R', 'B', 'M'], ['G', 'Y', 'R', 'G', 'Y', 'B'], ['Y', 'G', 'G', 'R', 'Y', 'Y'], ['Y', 'G', 'B', 'M', 'R', 'B'], ['R', 'B', 'G', 'B', 'G', 'M'], ['R', 'Y', 'R', 'B', 'R', 'B'], ['M', 'R', 'B', 'R', 'B', 'B']]\n",
      "[['Y', 'G', 'B', 'Y', 'Y', 'G'], ['Y', 'R', 'Y', 'Y', 'Y', 'B'], ['B', 'Y', 'R', 'R', 'M', 'B'], ['M', 'R', 'R', 'M', 'G', 'R'], ['Y', 'G', 'M', 'M', 'R', 'R'], ['R', 'G', 'M', 'G', 'R', 'G'], ['R', 'G', 'B', 'G', 'B', 'Y'], ['Y', 'B', 'Y', 'R', 'M', 'B'], ['G', 'R', 'B', 'B', 'B', 'G'], ['B', 'G', 'M', 'Y', 'G', 'G']]\n",
      "[['G', 'R', 'Y', 'B', 'M', 'G'], ['M', 'G', 'Y', 'M', 'B', 'R'], ['B', 'M', 'G', 'B', 'R', 'B'], ['Y', 'R', 'R', 'Y', 'Y', 'M'], ['G', 'R', 'M', 'M', 'R', 'R'], ['G', 'M', 'B', 'B', 'M', 'M'], ['M', 'Y', 'R', 'R', 'B', 'G'], ['Y', 'R', 'G', 'Y', 'R', 'G'], ['M', 'R', 'M', 'B', 'M', 'B'], ['R', 'Y', 'R', 'R', 'M', 'Y']]\n",
      "Lösung gefunden:['Y', 'R', 'G', 'Y', 'R', 'G']\n",
      "nach: 2 Generationen\n"
     ]
    }
   ],
   "source": [
    "\n",
    "f.let_the_games_begin()"
   ]
  },
  {
   "cell_type": "code",
   "execution_count": null,
   "id": "b42355df",
   "metadata": {},
   "outputs": [
    {
     "data": {
      "text/plain": [
       "1.0"
      ]
     },
     "execution_count": 175,
     "metadata": {},
     "output_type": "execute_result"
    }
   ],
   "source": []
  },
  {
   "cell_type": "code",
   "execution_count": null,
   "id": "f5c57a2f",
   "metadata": {},
   "outputs": [],
   "source": []
  }
 ],
 "metadata": {
  "kernelspec": {
   "display_name": ".venv (3.13.7)",
   "language": "python",
   "name": "python3"
  },
  "language_info": {
   "codemirror_mode": {
    "name": "ipython",
    "version": 3
   },
   "file_extension": ".py",
   "mimetype": "text/x-python",
   "name": "python",
   "nbconvert_exporter": "python",
   "pygments_lexer": "ipython3",
   "version": "3.13.7"
  }
 },
 "nbformat": 4,
 "nbformat_minor": 5
}
