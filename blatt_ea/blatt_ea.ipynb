{
 "cells": [
  {
   "cell_type": "markdown",
   "id": "19b5e8e6",
   "metadata": {},
   "source": [
    "# EA.01: Modellierung von GA\n",
    "1. Färbeproblem mit 5 verschiedenen Farben, \n",
    "    Ziel: Konfliktfreie Färbung mit einer minimalen Anzahl an Farben. \n",
    "\n",
    "2. 8-Queens-Problem \n",
    "\n",
    "Geben Sie an:  \n",
    "- Geeignete Kodierung der Individuen \n",
    "- passende Operatoren wie Crossover oder Mutation \n",
    "- Fitnessfunktion\n",
    "\n",
    "-> Begründen Sie Ihre Wahl!\n",
    "\n",
    "Was würden Sie noch benötigen um die Probleme mit Simulated Annealing lösen zu können? "
   ]
  },
  {
   "cell_type": "markdown",
   "id": "9e201102",
   "metadata": {},
   "source": [
    "## Färbeproblem \n",
    "\n",
    "1. Codierung der Individuen mit einem Array, das die Farben angibt: [A, B, C, D, E, F] (R, G, B, Y, M)\n",
    "\n",
    "2. Es soll einen Crossover zwischen den Eltern geben mit einer Wahrscheinlichkeit von 60%. Trennung an zufälliger Stelle\n",
    "    - Außerdem soll es Mutation geben, bei dem die Mutationswahrscheinlichkeit bei jedem Gen eines Individuum 0.01 beträgt. \n",
    "    - Alternativ könnte die mutationsrate auch 1/6 betragen\n",
    "\n",
    "3. Die Fitnessfunktion hat eine Sekundäre und Primäre Bedingung.\n",
    "    - Primäre Bedingung: Minimale Anzahl an Farben \n",
    "    - Sekundäre Bedingung: Konfliktfreie Färbung \n",
    "    - (-10\\*n_f) + (-2\\*n_k)\n",
    "    - n_f = Anzahl der insgesamten Farben \n",
    "    - n_k = Anzahl der Konflikte bei der Färbung\n",
    "    - max. fitness = -15\n",
    "\n",
    "\n",
    "## 8-Queens-Problem\n",
    "_Kann ich die Anzahl der Damen so Kontrollieren oder soll ich das durch die Fitnessfunktion geben?_\n",
    "\n",
    "\n",
    "1. Codierung der Individuen durch ein Spielfeld in dem die Königinnen schon gesetzt sind. Da nur eine Königin pro Reihe existieren kann wird auch nur eine Königin pro Reihe gesetzt. Die 1-8 geben die Stelle in der Reihe an. [1, 2, 3, 4, 5, 6, 7, 8] (1-8) \n",
    "\n",
    "2. Crossover mit 60% Wahrscheinlichkeit. Dabei soll die Trennung an einer zufälligen Stelle geschehen. \n",
    "    - Mutation mit einer Wahrscheinlichkeit von 0.01 oder 1/8\n",
    "\n",
    "3. Die Fitnessfunktion \n",
    "    - -1, wenn eine Königin in der Nähe \n",
    "    - -1, wenn gleiche Zahl vorhanden, da diese beiden sich dann treffen können.\n",
    "    - (-1\\*n_n) + (-1\\*n_r)\n",
    "    - n_n = Anzahl der Königinnen in der Nähe\n",
    "    - n_r = Anzahl der Königinnen in der gleichen Reihe \n",
    "    - max. fitness = 0 \n",
    "\n",
    "\n",
    "## Was würden Sie noch benötigen, um die obigen Probleme jeweils mit Simulated Annealing lösen zu können?\n",
    "- Es müsste noch festgelegt werden wie die fittesten Individuuen ausgewählt werden. \n",
    "- Dabei könnte man die Roulette-Selektion oder die Turnier-Selektion nehmen \n"
   ]
  },
  {
   "cell_type": "code",
   "execution_count": 1,
   "id": "86e36775",
   "metadata": {},
   "outputs": [],
   "source": [
    "import random as r\n",
    "import matplotlib.pyplot as plt\n",
    "\n",
    "\n",
    "class ea_modell:\n",
    "    nukleoide = []\n",
    "    max_fitness=0\n",
    "\n",
    "    def __init__(self, max_gen: int = 100, n_pop: int = 100, n_tournaments = 10, tournament_size = 10, recombination_probability = 60, mutation_probability = 1):\n",
    "        self.max_gen = max_gen\n",
    "        self.n_pop = n_pop\n",
    "        self.n_tournaments = n_tournaments\n",
    "        self.tournament_size = tournament_size\n",
    "        self.recombination_probability = recombination_probability\n",
    "        self.mutation_probability = mutation_probability\n",
    "\n",
    "    def init_population(self):\n",
    "        self.population = [self.create_individual() for i in range(self.n_pop)]\n",
    "\n",
    "    def create_individual(self):\n",
    "        return []\n",
    "\n",
    "    def fitness(self, individual: list): \n",
    "        return 1.0\n",
    "    \n",
    "    def recombination(self, parent1: list, parent2: list):\n",
    "        if len(parent1) != len(parent2): \n",
    "            raise\n",
    "        if r.randint(1,100) <= self.recombination_probability: \n",
    "            return parent1, parent2\n",
    "        \n",
    "        child1 = parent1.copy()\n",
    "        child2 = parent2.copy()\n",
    "        #zufällig trennen \n",
    "        cut = r.randint(1, len(parent1)-1)\n",
    "        #Gene tauschen \n",
    "        for i in range(cut):\n",
    "            child1[i] = parent2[i]\n",
    "            child2[i] = parent1[i]\n",
    "    \n",
    "        return child1, child2\n",
    "    \n",
    "    def mutation(self, individual: list):\n",
    "        #Chance von 0.01\n",
    "        mutated = individual.copy()\n",
    "        for i in range(len(individual)): \n",
    "            if r.randint(1,100) <= self.mutation_probability: \n",
    "                mutated[i] = r.choice(self.nukleoide)\n",
    "        return mutated \n",
    "\n",
    "    def selection(self):\n",
    "        mating_pool = []\n",
    "        tournament_pool = []\n",
    "\n",
    "        for i in range(self.n_tournaments): \n",
    "            for j in range(self.tournament_size):\n",
    "                tournament_pool.append(r.choice(self.population))\n",
    "\n",
    "            fittest_individual = tournament_pool[0]\n",
    "\n",
    "            for j in tournament_pool:\n",
    "                if self.fitness(j) > self.fitness(fittest_individual):\n",
    "                    fittest_individual = j\n",
    "            tournament_pool = []\n",
    "            mating_pool.append(fittest_individual)\n",
    "        \n",
    "        return mating_pool\n",
    "    \n",
    "    def let_the_games_begin(self): \n",
    "        self.init_population()\n",
    "        curr_gen = 0\n",
    "        new_population = []\n",
    "        fitness_curve = []\n",
    "        solution_found = False\n",
    "        while self.max_gen > curr_gen: \n",
    "            population_fitness = [self.fitness(i) for i in self.population]\n",
    "            fitness_curve.append(max(population_fitness))\n",
    "\n",
    "            # 2. Abbruchbedingung \n",
    "            if 1.0 in population_fitness: \n",
    "                #print(\"Lösung gefunden:\" + str(self.population[population_fitness.index(self.max_fitness)]))\n",
    "                #print(\"nach: \"+ str(curr_gen) +\" Generationen\")\n",
    "                solution_found = True\n",
    "                break\n",
    "            # Selection \n",
    "            mating_pool = self.selection()\n",
    "\n",
    "            # Recombination\n",
    "            for i in range(int(self.n_pop/3)):\n",
    "                x,y = self.recombination(r.choice(mating_pool), r.choice(mating_pool))\n",
    "                new_population.append(x)\n",
    "                new_population.append(y)\n",
    "            \n",
    "            # Population auffüllen\n",
    "            for i in range(int(self.n_pop/3)):\n",
    "                new_population.append(self.create_individual())\n",
    "\n",
    "            # Mutation\n",
    "            new_population = [self.mutation(i) for i in new_population]\n",
    "            \n",
    "            self.population = new_population.copy()\n",
    "            new_population = []\n",
    "            curr_gen+=1\n",
    "        return (curr_gen, solution_found, fitness_curve)\n",
    "\n",
    "class Faerbeproblem(ea_modell): \n",
    "\n",
    "    nukleoide = [\"R\", \"G\", \"B\", \"Y\", \"M\"]\n",
    "    max_fitness=1.0\n",
    "    \n",
    "\n",
    "    def __init__(self, max_gen: int = 100, n_pop: int = 100, n_tournaments = 10, tournament_size = 10, recombination_probability = 60, mutation_probability = 1):\n",
    "        super().__init__(max_gen, n_pop, n_tournaments, tournament_size, recombination_probability, mutation_probability)\n",
    "\n",
    "    def create_individual(self):\n",
    "        return [r.choice(self.nukleoide) for i in range(6)]\n",
    "\n",
    "    def fitness(self, individual: list): \n",
    "        \"\"\"Determines the fitness for one individual\"\"\"\n",
    "        n_f = len(set(individual))\n",
    "        #Constraints: A/=B,  A/=C, B/=C, B/=D, C/=D, D/=E\n",
    "        constraints = {(0,1), (0,2), (1,2), (1,3), (2,3), (3,4)}\n",
    "\n",
    "        n_k = 0\n",
    "        for i in constraints:\n",
    "            if individual[i[0]] == individual[i[1]]:\n",
    "                n_k+=1\n",
    "        \n",
    "        #Maximale Fitness ist 15\n",
    "        return 15 /(n_k*6 + n_f*5)\n",
    "\n",
    "    \n",
    "    \n",
    "\n"
   ]
  },
  {
   "cell_type": "code",
   "execution_count": 2,
   "id": "51926e79",
   "metadata": {},
   "outputs": [
    {
     "data": {
      "text/plain": [
       "[<matplotlib.lines.Line2D at 0x7f44b6692710>]"
      ]
     },
     "execution_count": 2,
     "metadata": {},
     "output_type": "execute_result"
    },
    {
     "data": {
      "image/png": "[encoded data removed]",
      "text/plain": [
       "<Figure size 640x480 with 1 Axes>"
      ]
     },
     "metadata": {},
     "output_type": "display_data"
    }
   ],
   "source": [
    "f = Faerbeproblem(n_pop=10, tournament_size=5, n_tournaments=5)\n",
    "f.fitness(['B', 'B', 'M', 'G', 'B', 'G'])\n",
    "n_gen, solution_found, fitness_curve_f = f.let_the_games_begin()\n",
    "plt.plot(fitness_curve_f)"
   ]
  },
  {
   "cell_type": "code",
   "execution_count": 3,
   "id": "f5c57a2f",
   "metadata": {},
   "outputs": [],
   "source": [
    "\n",
    "class EightQueensProblem(ea_modell):\n",
    "\n",
    "    nukleoide = [1,2,3,4,5,6,7,8]\n",
    "    max_fitness = 1.0\n",
    "\n",
    "    #gleicher Constructor, da gleiche Einstellungsmöglichkeiten\n",
    "    def __init__(self, max_gen: int = 100, n_pop: int = 100, n_tournaments = 10, tournament_size = 10, recombination_probability = 60, mutation_probability = 1):\n",
    "        super().__init__(max_gen, n_pop, n_tournaments, tournament_size, recombination_probability, mutation_probability)\n",
    "\n",
    "    \n",
    "\n",
    "    def create_individual(self):\n",
    "        return [r.choice(self.nukleoide) for i in range(8)]\n",
    "\n",
    "    def fitness(self, individual: list[int]):\n",
    "        # Doppelte Zahlen -> Königinnen in einer Reihe \n",
    "        n_r = 0\n",
    "        for i in individual: \n",
    "            if individual.count(i) > 1: \n",
    "                n_r += 1\n",
    "        \n",
    "        n_d = 0\n",
    "        # Vergleiche alle Königinnen miteinander ob diese diagonal zueinander stehen\n",
    "        for i in range(len(individual)): #i = aktuell zu untersuchende Königin\n",
    "            for j in range(len(individual)): #j = absolute Position der anderen Königin\n",
    "                if i != j:\n",
    "                    if individual[j] == individual[i]-abs(i-j): #abs(i-j) relative Position der anderen Königin \n",
    "                        n_d +=1\n",
    "\n",
    "        return 1 / (1*n_r + 2*n_d +1)"
   ]
  },
  {
   "cell_type": "code",
   "execution_count": 4,
   "id": "9a95a1be",
   "metadata": {},
   "outputs": [
    {
     "data": {
      "text/plain": [
       "[<matplotlib.lines.Line2D at 0x7f44b625afd0>]"
      ]
     },
     "execution_count": 4,
     "metadata": {},
     "output_type": "execute_result"
    },
    {
     "data": {
      "image/png": "[encoded data removed]",
      "text/plain": [
       "<Figure size 640x480 with 1 Axes>"
      ]
     },
     "metadata": {},
     "output_type": "display_data"
    }
   ],
   "source": [
    "test = EightQueensProblem(max_gen=400, n_pop=15)\n",
    "n_gen, solution_found, fitness_curve = test.let_the_games_begin()\n",
    "plt.plot(fitness_curve)"
   ]
  },
  {
   "cell_type": "markdown",
   "id": "fea85e04",
   "metadata": {},
   "source": [
    "# Untersuchung bekannter Kennzahlen \n",
    "**Kenngrößen:**\n",
    "- Populationsgröße \n",
    "- Mutationswahrscheinlichkeit \n",
    "- Rekombinationswahrscheinlichkeit\n",
    "- Turniergröße \n",
    "- Anzahl der Turniere\n",
    "\n",
    "Es gibt noch die Kenngröße von der Anzahl der Nachfahren, allerdings weiß ich nicht wie ich das mit einbauen soll. Kommt in meinem Code halt nicht vor.\n",
    "\n",
    "**Bewertungskritierien:**\n",
    "- Gewschdingigkeit AES\n",
    "- Lösungswahrscheinlichkeit SR \n",
    "\n",
    "- AES = Summe der Generationen aller Erfolgreichen Läufe/ Anzahl der Erfolgreichen Läufe\n",
    "- SR  = Anzahl der erfolgreichen Läufe/ Anzahl aller Läufe \n",
    "\n",
    "\n",
    "Um eine Vergleichbarkeit zu Gewährleisten sind die im Konstruktor angegebenen Werte die Standardwerte und es wird nur die Jeweilige Kenngröße verändert. \n",
    "Es werden mit jeder Einstellung 100 Läufe durchgeführt und die Ergebnisse werden gemittelt. "
   ]
  },
  {
   "cell_type": "code",
   "execution_count": 5,
   "id": "3c616a8e",
   "metadata": {},
   "outputs": [],
   "source": [
    "def calculate_metrics(data): \n",
    "    n_solutions = 0\n",
    "    n_gen_solutions = 0\n",
    "    n_runs = 0\n",
    "    for n_gen, solution_found, _ in data:\n",
    "        n_runs +=1\n",
    "        if solution_found: \n",
    "            n_solutions += 1\n",
    "            n_gen_solutions += n_gen\n",
    "\n",
    "    aes = n_gen_solutions / n_solutions\n",
    "    sr = n_solutions / n_runs\n",
    "\n",
    "    return aes, sr"
   ]
  },
  {
   "cell_type": "code",
   "execution_count": 6,
   "id": "89cb490a",
   "metadata": {},
   "outputs": [
    {
     "data": {
      "text/plain": [
       "(0.13, 1.0)"
      ]
     },
     "execution_count": 6,
     "metadata": {},
     "output_type": "execute_result"
    }
   ],
   "source": [
    "# Standardeinstellungen, Färbeproblem \n",
    "data = []\n",
    "for i in range(100): \n",
    "    f = Faerbeproblem()\n",
    "    data.append(f.let_the_games_begin())\n",
    "calculate_metrics(data)"
   ]
  },
  {
   "cell_type": "code",
   "execution_count": 7,
   "id": "fbd0e291",
   "metadata": {},
   "outputs": [
    {
     "data": {
      "text/plain": [
       "(37.142857142857146, 0.21)"
      ]
     },
     "execution_count": 7,
     "metadata": {},
     "output_type": "execute_result"
    }
   ],
   "source": [
    "# Standardeinstellungen, 8-Queens-Problem\n",
    "data = []\n",
    "for i in range(100): \n",
    "    f = EightQueensProblem()\n",
    "    data.append(f.let_the_games_begin())\n",
    "calculate_metrics(data)"
   ]
  },
  {
   "cell_type": "markdown",
   "id": "6daa922d",
   "metadata": {},
   "source": [
    "- Die Standardeinstellungen sorgen beim Faerbeproblem zu einer Geschwindigkeit von 0.13 mit einer Lösungswahrscheinlichkeit von 1.0. Das ist natürlich Verwunderlich, aber in den meisten Fällen wurde unter der initial Population schon eine Lösung gefunden. \n",
    "- Beim 8-Queens-Problem sieht das ganze schon verteilter aus. Mit einer Geschwindigkeit von 37.1428 und einer Lösungswahrscheinlichkeit von 0.21\n",
    "- -> Die Zahlen dieser Versuche dienen als Vergleichsdaten für die restlichen Versuche "
   ]
  },
  {
   "cell_type": "code",
   "execution_count": 8,
   "id": "de9e5227",
   "metadata": {},
   "outputs": [
    {
     "name": "stdout",
     "output_type": "stream",
     "text": [
      "(6.69, 1.0)\n",
      "(3.63, 1.0)\n",
      "(2.4233333333333333, 1.0)\n"
     ]
    }
   ],
   "source": [
    "# Populationsgröße 10, 50, 150, Färbeproblem \n",
    "data = []\n",
    "for n_pop in [10, 50, 150]:\n",
    "    for i in range(100): \n",
    "        f = Faerbeproblem(n_pop=n_pop)\n",
    "        data.append(f.let_the_games_begin())\n",
    "    print(calculate_metrics(data))"
   ]
  },
  {
   "cell_type": "code",
   "execution_count": 9,
   "id": "162d90d3",
   "metadata": {},
   "outputs": [
    {
     "name": "stdout",
     "output_type": "stream",
     "text": [
      "(40.5, 0.02)\n",
      "(50.77272727272727, 0.11)\n",
      "(41.13953488372093, 0.14333333333333334)\n"
     ]
    }
   ],
   "source": [
    "# Populationsgröße 10, 50, 150, 8-Queens-Problem \n",
    "data = []\n",
    "for n_pop in [10, 50, 150]:\n",
    "    for i in range(100): \n",
    "        f = EightQueensProblem(n_pop=n_pop)\n",
    "        data.append(f.let_the_games_begin())\n",
    "    print(calculate_metrics(data))"
   ]
  },
  {
   "cell_type": "markdown",
   "id": "13565e37",
   "metadata": {},
   "source": [
    "| Populationsgröße | Färbeproblem - AES|Färbeproblem - SR| 8-Queens-Problem - AES| 8-Queens-Problem - SR|\n",
    "|------------------|--------------|------------------|-----------|----------|\n",
    "|10| 6.69 | 1.0 | 40.5 | 0.02 | \n",
    "|50| 3.63 | 1.0 | 50.77| 0.11 |\n",
    "|150| 2.423333 | 1.0 | 41.13 | 0.143|\n",
    "\n",
    "- Das Färbeproblem hat mit ansteigender Populationsgröße eine immer höhere Geschwindigkeit. Das liegt daran, dass bei einer höheren Population die Wahrscheinlichkeit größer ist, dass ein Individuum mit der richtigen Lösung schon dabei ist.\n",
    "- Bei dem 8-Queens-Problem lässt sich deutlich erkennen, dass die geringe Populationsgröße zu einer weitaus geringeren Lösungswahrscheinlichkeit führt. Wahrscheinlich ist der Selektionsdruck nicht groß genug oder die insgesamt kleine Auswahl an Individuuen hat zu weniger Mutation geführt oder die Population hat sich zu schnell einander angeglichen und kam so früh in eine lokales Minimum"
   ]
  },
  {
   "cell_type": "code",
   "execution_count": 10,
   "id": "6581185f",
   "metadata": {},
   "outputs": [
    {
     "name": "stdout",
     "output_type": "stream",
     "text": [
      "(0.17, 1.0)\n",
      "(0.165, 1.0)\n",
      "(0.15666666666666668, 1.0)\n"
     ]
    }
   ],
   "source": [
    "# Mutationswahrscheinlichkeit 0.01%, 0.1%, 5%, Färbeproblem \n",
    "data = []\n",
    "for mutation_probability in [0.01, 0.1, 5]:\n",
    "    for i in range(100): \n",
    "        f = Faerbeproblem(mutation_probability=mutation_probability)\n",
    "        data.append(f.let_the_games_begin())\n",
    "    print(calculate_metrics(data))"
   ]
  },
  {
   "cell_type": "code",
   "execution_count": 11,
   "id": "f762fa3d",
   "metadata": {},
   "outputs": [
    {
     "name": "stdout",
     "output_type": "stream",
     "text": [
      "(25.5, 0.02)\n",
      "(41.285714285714285, 0.035)\n",
      "(27.28, 0.16666666666666666)\n"
     ]
    }
   ],
   "source": [
    "# Mutationswahrscheinlichkeit 0.01%, 0.1%, 5%, 8-Queens-Problem \n",
    "data = []\n",
    "for mutation_probability in [0.01, 0.1, 5]:\n",
    "    for i in range(100): \n",
    "        f = EightQueensProblem(mutation_probability=mutation_probability)\n",
    "        data.append(f.let_the_games_begin())\n",
    "    print(calculate_metrics(data))"
   ]
  },
  {
   "cell_type": "markdown",
   "id": "e416c28f",
   "metadata": {},
   "source": [
    "| Mutationswahrscheinlichkeit | Färbeproblem - AES|Färbeproblem - SR| 8-Queens-Problem - AES| 8-Queens-Problem - SR|\n",
    "|------------------|--------------|------------------|-----------|----------|\n",
    "| 0.01 | 0.17 | 1.0 | 25.5 | 0.02 |  \n",
    "| 0.1 | 0.165 | 1.0 | 41.28 | 0.035 | \n",
    "| 5 | 0.1566 | 1.0 | 27.28 | 0.1666 | \n",
    "\n",
    "- Die geringere Mutationswahrscheinlichkeit führt zu einem geringeren \"Schütteln\" der Simulationslandschaft \n",
    "- Beim Färbeproblem wird mit steigender Mutationswahrscheinlichkeit die Wahrscheinlichkeit, dass die Zufälligkeit der nächsten Generationen direkt eine richtige Lösung hervorbringt, höher. Somit sehen wir eine steigende Geschwindigkeit \n",
    "- Beim 8-Queens-Problem ist es Interessant anzusehen, dass mit einer sehr geringen Mutationswahrscheinlichkeit die Lösungswahrscheinlichkeit sehr viel niedriger ist. Es lässt sich daraus schließen, dass der Algorithmus auch hier schnell in lokale Minima verfällt. Dazu passt auch die schnelle Geschwindigkeit. Entweder findet der Algorithmus schnell eine Lösung oder gar nicht. \n",
    "- Allerdings zeigen die Ergebnisse auch, dass ein zu starkes \"Schütteln\" nicht förderlich ist. Die Ergebnisse werden mehr Zufällig und es kann sein, dass gute Kandidaten durch Mutation zerstört werden."
   ]
  },
  {
   "cell_type": "code",
   "execution_count": 12,
   "id": "e6159e0f",
   "metadata": {},
   "outputs": [
    {
     "name": "stdout",
     "output_type": "stream",
     "text": [
      "(0.09, 1.0)\n",
      "(0.085, 1.0)\n",
      "(0.1, 1.0)\n"
     ]
    }
   ],
   "source": [
    "# Rekombinationswahrscheinlichkeit 20%, 40%, 80%, Färbeproblem \n",
    "data = []\n",
    "for recombination_probability in [20, 40, 80]:\n",
    "    for i in range(100): \n",
    "        f = Faerbeproblem(recombination_probability=recombination_probability)\n",
    "        data.append(f.let_the_games_begin())\n",
    "    print(calculate_metrics(data))"
   ]
  },
  {
   "cell_type": "code",
   "execution_count": 13,
   "id": "d24d678d",
   "metadata": {},
   "outputs": [
    {
     "name": "stdout",
     "output_type": "stream",
     "text": [
      "(20.566666666666666, 0.3)\n",
      "(26.20689655172414, 0.29)\n",
      "(26.68918918918919, 0.24666666666666667)\n"
     ]
    }
   ],
   "source": [
    "# Rekombinationswahrscheinlichkeit 20%, 40%, 80%, 8-Queens-Problem \n",
    "data = []\n",
    "for recombination_probability in [20, 40, 80]:\n",
    "    for i in range(100): \n",
    "        f = EightQueensProblem(recombination_probability=recombination_probability)\n",
    "        data.append(f.let_the_games_begin())\n",
    "    print(calculate_metrics(data))"
   ]
  },
  {
   "cell_type": "markdown",
   "id": "2377c32f",
   "metadata": {},
   "source": [
    "| Rekombinationswahrscheinlichkeit | Färbeproblem - AES|Färbeproblem - SR| 8-Queens-Problem - AES| 8-Queens-Problem - SR|\n",
    "|------------------|--------------|------------------|-----------|----------|\n",
    "| 20 | 0.09 | 1.0 | 20.56 | 0.3 | \n",
    "| 40 | 0.085 | 1.0 | 26.20 | 0.29 | \n",
    "| 80 | 0.1 | 1.0 | 26.68 | 0.2466 | \n",
    "\n",
    "- Beide Algorithmen schneiden bei einer geringeren Rekombinationswahrscheinlichkeit besser ab. \n",
    "- Das lässt darauf schließen, dass bei den Algorithmen vorher nicht genügend gute Eltern wieder in die Population zurück gekommen sind. Besonders fällt mir auf, dass die Geschindigkeit vom 8-Queens-Problem relativ schnell ist. "
   ]
  },
  {
   "cell_type": "code",
   "execution_count": 14,
   "id": "a473748a",
   "metadata": {},
   "outputs": [
    {
     "name": "stdout",
     "output_type": "stream",
     "text": [
      "(0.1, 1.0)\n",
      "(0.11, 1.0)\n",
      "(0.14, 1.0)\n"
     ]
    }
   ],
   "source": [
    "# Turniergröße 3, 20, 40, Färbeproblem \n",
    "data = []\n",
    "for tournament_size in [3, 20, 40]:\n",
    "    for i in range(100): \n",
    "        f = Faerbeproblem(tournament_size=tournament_size)\n",
    "        data.append(f.let_the_games_begin())\n",
    "    print(calculate_metrics(data))"
   ]
  },
  {
   "cell_type": "code",
   "execution_count": 15,
   "id": "dd5bc9e1",
   "metadata": {},
   "outputs": [
    {
     "name": "stdout",
     "output_type": "stream",
     "text": [
      "(44.75, 0.24)\n",
      "(35.3469387755102, 0.245)\n",
      "(33.69620253164557, 0.2633333333333333)\n"
     ]
    }
   ],
   "source": [
    "# Turniergröße 3, 20, 40, 8-Queens-Problem \n",
    "data = []\n",
    "for tournament_size in [3, 20, 40]:\n",
    "    for i in range(100): \n",
    "        f = EightQueensProblem(tournament_size=tournament_size)\n",
    "        data.append(f.let_the_games_begin())\n",
    "    print(calculate_metrics(data))"
   ]
  },
  {
   "cell_type": "markdown",
   "id": "c5ef0220",
   "metadata": {},
   "source": [
    "| Turniergröße | Färbeproblem - AES|Färbeproblem - SR| 8-Queens-Problem - AES| 8-Queens-Problem - SR|\n",
    "|------------------|--------------|------------------|-----------|----------|\n",
    "| 3 | 0.1 | 1.0 | 44.75 | 0.24 |\n",
    "| 20 | 0.11 | 1.0 | 35.34 | 0.245 |\n",
    "| 40 | 0.14 | 1.0 | 33.69 | 0.263 | \n",
    "\n",
    "- Mit der Turniergröße kann man gut den Selektionsdruck einstellen. \n",
    "- Man sieht, dass bei einem geringen Selektionsdruck beim 8-Queens-Problem die Geschwindigkeit zunimmt. "
   ]
  },
  {
   "cell_type": "code",
   "execution_count": 16,
   "id": "140a8f96",
   "metadata": {},
   "outputs": [
    {
     "name": "stdout",
     "output_type": "stream",
     "text": [
      "(0.25, 1.0)\n",
      "(0.16, 1.0)\n",
      "(0.14, 1.0)\n"
     ]
    }
   ],
   "source": [
    "# Anzahl der Turniere 3, 20, 40, Färbeproblem \n",
    "data = []\n",
    "for n_tournaments in [3, 20, 40]:\n",
    "    for i in range(100): \n",
    "        f = Faerbeproblem(n_tournaments=n_tournaments)\n",
    "        data.append(f.let_the_games_begin())\n",
    "    print(calculate_metrics(data))"
   ]
  },
  {
   "cell_type": "code",
   "execution_count": 17,
   "id": "a3293cff",
   "metadata": {},
   "outputs": [
    {
     "name": "stdout",
     "output_type": "stream",
     "text": [
      "(41.0, 0.22)\n",
      "(38.15686274509804, 0.255)\n",
      "(33.78947368421053, 0.25333333333333335)\n"
     ]
    }
   ],
   "source": [
    "# Anzahl der Turniere 3, 20, 40, 8-Queens-Problem \n",
    "data = []\n",
    "for n_tournaments in [3, 20, 40]:\n",
    "    for i in range(100): \n",
    "        f = EightQueensProblem(n_tournaments=n_tournaments)\n",
    "        data.append(f.let_the_games_begin())\n",
    "    print(calculate_metrics(data))"
   ]
  },
  {
   "cell_type": "markdown",
   "id": "90ad7cc3",
   "metadata": {},
   "source": [
    "| Anzahl der Turniere | Färbeproblem - AES|Färbeproblem - SR| 8-Queens-Problem - AES| 8-Queens-Problem - SR|\n",
    "|------------------|--------------|------------------|-----------|----------|\n",
    "| 3 | 0.25 | 1.0 | 41.0 | 0.22 | \n",
    "| 20 | 0.16 | 1.0 | 38.156 | 0.255 |\n",
    "| 40 | 0.14 | 1.0 | 33.78 | 0.253 | \n",
    "\n",
    "- Mit der Anzahl der Turniere erhöht sich die Anzahl an gleichen Eltern, da die besten Individuuen öfter ausgewählt werden. \n",
    "- Somit wird die Population weniger divers. Das kann zu lokalen Minima führen. \n",
    "- Das lässt sich daran sehen, dass die Geschwindigkeit des 8-Queens-Problems schneller wird. \n",
    "- Weil die besten Individuen schnell ausgewählt werden und die Population sich in einem lokalen Minimum befindet. "
   ]
  }
 ],
 "metadata": {
  "kernelspec": {
   "display_name": ".venv (3.13.7)",
   "language": "python",
   "name": "python3"
  },
  "language_info": {
   "codemirror_mode": {
    "name": "ipython",
    "version": 3
   },
   "file_extension": ".py",
   "mimetype": "text/x-python",
   "name": "python",
   "nbconvert_exporter": "python",
   "pygments_lexer": "ipython3",
   "version": "3.13.7"
  }
 },
 "nbformat": 4,
 "nbformat_minor": 5
}
