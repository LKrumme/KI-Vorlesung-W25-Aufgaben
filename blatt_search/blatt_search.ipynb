{
 "cells": [
  {
   "cell_type": "markdown",
   "id": "62e172d8",
   "metadata": {},
   "source": [
    "# Search.01\n",
    "Drei Elben und drei Orks befinden sich an einem Ufer eines Flusses und wollen diesen überqueren. Es steht dazu ein Pferd zur Verfügung, welches maximal zwei Wesen tragen kann. Das Pferd kann den Fluss nicht allein überqueren.\n",
    "\n",
    "Gesucht ist eine Möglichkeit, alle Elben und Orks über den Fluss zu bringen. Dabei darf zu keiner Zeit an keinem Ufer die Anzahl der sich dort befindlichen Orks größer sein als die der dort wartenden Elben, da es sonst zu Konflikten zwischen beiden Gruppen kommt.\n",
    "\n",
    "    Formalisieren Sie das Problem (Zustände, Aktionen, Start- und Endzustand).\n",
    "    Skizzieren Sie den Problemgraph.\n"
   ]
  },
  {
   "cell_type": "markdown",
   "id": "4c80c974",
   "metadata": {},
   "source": [
    "\n",
    "Zustände: \n",
    "- OOOEEE|\n",
    "- OOOEE | E\n",
    "- OOOE  | EE\n",
    "- OOO   | EEE\n",
    "- OO    | EEEO\n",
    "- O     | EEEOO\n",
    "-       | EEEOOO\n",
    "- OOEE  | EO\n",
    "- OEE   | EOO\n",
    "- EE    | EOOO\n",
    "- E     | EEOOO\n",
    "- OOE   | EEO\n",
    "- OE    | EEOO\n",
    "\n",
    "Gültige Zustände:\n",
    "- OOOEEE|\n",
    "- OOO   | EEE\n",
    "- OO    | EEEO\n",
    "- O     | EEEOO\n",
    "-       | EEEOOO\n",
    "- OOEE  | EO\n",
    "- OE    | EEOO\n",
    "\n",
    "Startzustand: OOOEEE|\n",
    "Endzustand: |EEEOOO\n",
    "Aktionen: \n",
    "- O \n",
    "- OO \n",
    "- E \n",
    "- EE\n",
    "- OE\n"
   ]
  },
  {
   "cell_type": "markdown",
   "id": "e6aef2f7",
   "metadata": {},
   "source": [
    "Probelmgraph: \n",
    "![Problemgraph](Problemlösungraph.drawio.png)\n",
    "\n",
    "Der rote Zustand ist zwar ein gültiger Zustand, aber er kann nicht erreicht werden. Habe vergessen wie das heißt. "
   ]
  },
  {
   "cell_type": "markdown",
   "id": "d6238ffa",
   "metadata": {},
   "source": [
    "# Search.02: Suchverfahren\n",
    "Betrachten Sie folgende Landkarte und Restwegschätzungen:\n",
    "\n",
    "![](Karte.png)\n",
    "\n",
    "\n",
    "![](restwegschätzungen.png)\n",
    "    \n",
    "    Finden Sie nacheinander mit Tiefensuche (1P) und Breitensuche (1P) (jeweils in der Graph-Search-Variante) sowie A* (2P) (in der Tree-Search-Variante mit der Verbesserung “keine Zyklen”, siehe Vorlesung) jeweils einen Weg von Würzburg nach München.\n",
    "\n",
    "    Vergleichen Sie die drei Algorithmen: Wie viele Einträge gibt es in der Datenstruktur maximal, wie oft wird die Hauptschleife durchlaufen (also ein Element aus der Datenstruktur entnommen, untersucht und weiterentwickelt)?\n",
    "\n",
    "    Sie können dafür eine Handsimulation anwenden oder die Algorithmen implementieren. Sie können gern auch die Java-Klassen im Paket aima.core.search bzw. die Python-Klassen in search.py als Ausgangspunkt nutzen.1\n",
    "\n",
    "    Dürfen die oben gegebenen Restkostenabschätzungen in A* verwendet werden? (1P)\n",
    "        Falls ja, warum?\n",
    "        Falls nein, warum? Wie müssten die Abschätzungen ggf. korrigiert werden?\n",
    "\n",
    "    Falls Sie der Meinung waren, die Abschätzungen sind nicht korrekt, korrigieren Sie die Abschätzungen nun und führen Sie erneut eine Suche mit A* durch.\n",
    "\n",
    "Hinweis: Reihenfolge bei gleichen f ( n ) -Kosten: alphabetische Reihenfolge, d.h. Mannheim käme vor München, Karlsruhe vor Kassel etc."
   ]
  },
  {
   "cell_type": "markdown",
   "id": "eac80d3c",
   "metadata": {},
   "source": [
    "## Tiefensuche Graph-Search\n",
    "\n",
    "| Stack           | Makierte Knoten |\n",
    "| --------------- | --------------- |\n",
    "| [W]             | []              |\n",
    "| [WE,WF,WN]      | [W]             |\n",
    "| [WF,WN]         | [W,E]           |\n",
    "| [WFK,WFMa,WN]   | [W,E,F]         |\n",
    "| [WFKMü,WFMa,WN] | [W,E,F,K]       |\n",
    "-> Weg von Würzburg nach München mit Tiefensuche Graph-Search: Würzburg, Frankfurt, Kassel, München\n"
   ]
  },
  {
   "cell_type": "markdown",
   "id": "73c3fdba",
   "metadata": {},
   "source": [
    "## Breitensuche Graph-Search\n",
    "| Queue | Makierte Knoten | \n",
    "|-------|----------|\n",
    "|[W]|[]|\n",
    "|[WE,WF,WN]|[W]|\n",
    "|[WF,WN]|[W,E]|\n",
    "|[WN,WFK,WFMa]|[W,E,F]|\n",
    "|[WFK,WFMa, WNMü, WNS]| [W,E,F,N]|\n",
    "|[WFMa, WNMü, WNS, WFKMü]|[W,E,F,K]|\n",
    "|[WNMü, WNS, WFKMü, WFMaKar]|[W,E,F,K,Ma]|\n",
    "-> Weg von Würzburg nach München mit Breitensuche Graph-Seach: Würzburg, Nürnberg, München"
   ]
  },
  {
   "cell_type": "markdown",
   "id": "cf97c0a3",
   "metadata": {},
   "source": [
    "## Tiefensuche A*\n",
    "\n",
    "| Prio Queue |\n",
    "|------------|\n",
    "|[W=0+170=170]|\n",
    "|[**WF=217+100=317**, WE=186+400=586, WN=103+537=640]|\n",
    "|[**WFMa=302+200=502**, WFK=400+460=860, WE=186+400=586, WN=103+537=640]|\n",
    "|[**WFMaK=382+10=392**, WFK=400+460=860, WE=186+400=586, WN=103+537=640]|\n",
    "|[WFMaKA=632+0=632, WFK=400+460=860, **WE=186+400=586**, WN=103+537=640]|\n",
    "|[**WFMaKA=632+0=632**, WFK=400+460=860,WN=103+537=640]|\n",
    "|[WFMaKA=716+0=716, WFK=400+460=860, **WN=103+537=640**]|\n",
    "|[WNS=286+300=586, **WNMü=270+0=270**, WFMaKA=716+0=716, WFK=400+460=860]|\n",
    "-> Weg von Würzburg nach München mit A*: Würzburg, Nürnberg, München. \n",
    "\n",
    "\n"
   ]
  },
  {
   "cell_type": "markdown",
   "id": "150e9cc5",
   "metadata": {},
   "source": [
    "## Vergleich\n",
    "| Art der Suche | Einträge in der Datenstruktur Maximal| Anzahl Hauptschleife Durchlaufen|\n",
    "|------|------|--------|\n",
    "Tiefensuche | 3 | 5\n",
    "Breitensuche| 4 | 7\n",
    "A*          | 4 | 8"
   ]
  },
  {
   "cell_type": "markdown",
   "id": "a4d54ab1",
   "metadata": {},
   "source": [
    "## Dürfen die oben gegeben Restkostenabschätzungen in A* verwendet werden? \n",
    "Nein, da Besipielsweise die Restkostenabschätzung von Nürnberg mit 537 weit über den eigentlichen 167km bis nach München liegen. Dabei sollte die Restkostenschätzung unter den eigentlichen Kosten liegen, aber nie über den eigentlichen Kosten. Außerdem hat Augsburg die geschätzen Kosten von 0, ist allerdings kein Zielknoten. \n",
    "Abschätzungen korrigiert: \n",
    "| Stadt | h(n) | \n",
    "| ----- | -----|\n",
    "| Augsburg | 80 km | \n",
    "| Erfurt | 400 km | \n",
    "| Frankfurt | 100 km | \n",
    "| Karlsruhe | 10 km | \n",
    "| Kassel | 460 km | \n",
    "| Mannheim | 200 km | \n",
    "| *München* | 0 km | \n",
    "| Nürnberg | 150 km | \n",
    "| Stuttgart | 300 km | \n",
    "| Würzburg | 170 km |"
   ]
  },
  {
   "cell_type": "markdown",
   "id": "fe0730b9",
   "metadata": {},
   "source": [
    "## A* mit verbesserten Restkosten\n",
    "| Prio Queue |\n",
    "|------------|\n",
    "|[W=0+170=170]|\n",
    "|[WF=217+100=317, WE=186+400, **WN=103+150=253**]|\n",
    "|[WF=217+100=317, WE=186+400, **WNMü=270+0=270**]|\n",
    "-> Weg von Würzburg nach München mit A* mit verbesserten Restkosten: Würzburg, Nürnberg, München.\n",
    "\n",
    "Man siehe A* hat mit verbesserten Restkosten nur eine Maximale Anzahl an Elementen von 3, und hatte 3 Hauptschleifen durchläufe."
   ]
  },
  {
   "cell_type": "markdown",
   "id": "d6ba5f81",
   "metadata": {},
   "source": [
    "# Search.03 Dominanz \n",
    "Was bedeutet “Eine Heuristik h 1 ( n ) dominiert eine Heuristik h 2 ( n ) ”?\n",
    "\n",
    "Wenn eine Heuristik $h_1(n)$ größer ist als eine Heuristik $h_2(n)$, aber beide Heuristiken Zulässig sind. \n",
    "$h1​(n)≥h2​(n)$\n",
    "\n",
    "Somit ist die dominantere Heuristik näher an den eigentlichen Restkosten dran. \n",
    "\n",
    "Bei der Nutzung einer dominierenden Heuristik wird die Suche bei dem A* Algorithmus verschnellert. "
   ]
  },
  {
   "cell_type": "markdown",
   "id": "dab2155c",
   "metadata": {},
   "source": [
    "# Search.04 Beweis der Optimalität von A* \n",
    "\n",
    "Wenn wir bei A* mit einer zugelassen Heuristik verwenden so hat jeder Knoten, der auf dem optimalen Pfad liegt geringere Kosten als jeder Suboptimale Pfad. "
   ]
  }
 ],
 "metadata": {
  "language_info": {
   "name": "python"
  }
 },
 "nbformat": 4,
 "nbformat_minor": 5
}
