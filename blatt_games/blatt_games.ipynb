{
 "cells": [
  {
   "cell_type": "markdown",
   "id": "ed16db99",
   "metadata": {},
   "source": [
    "# Games \n",
    "## Games.01: Handsimulation: MInimax und alpha-beta-Pruning\n",
    "\n",
    "![Spielbaum](spielbaum.png)\n",
    "\n",
    "1. Geben Sie für den Spielbaum die Minimax-Bewertungen an. \n",
    "\n",
    "| Knoten | Bewertung | \n",
    "|--------|-----------|\n",
    "|   A    |     3     |\n",
    "|   B    |     3     |\n",
    "|   C    |     2     |\n",
    "|   D    |     1     |\n",
    "|   E    |     9     |\n",
    "|   F    |     2     |\n",
    "|   G    |     6     |\n",
    "\n",
    "2. Markieren Sie die Kanten, die bei alpha-beta-Pruning nicht mehr untersucht werden würden, d.h. wo Pruning stattfinden würde. Geben Sie für jeden Knoten die (sich ändernden) α - und β -Werte an.\n",
    "\n",
    "| Knoten | Bewertung | Alpha / Beta | \n",
    "|--------|-----------|--------------|\n",
    "|        |           |  $-\\infty$ $\\infty$ | \n",
    "|   B    |     3     |  $-\\infty$  3 | \n",
    "|   E    |     9     |  9, 9 |\n",
    "|   F    |     2     |  9, 9 |\n",
    "| ~~G~~  |     6     |  xxx |\n",
    "|   C    |     2     |  9, 2 | \n",
    "|   D    |     1     |  9, 1 |\n",
    "|   A    |     3     |  9, 1 |\n",
    "\n",
    "3. Können die Knoten derart geordnet werden, dass alpha-beta-Pruning eine größere Anzahl von Zweigen abschneidet? Wenn ja, geben Sie eine solche Ordnung an. Wenn nein, begründen Sie Ihre Antwort\n",
    "\n",
    "Ja die Knoten können besser angeordnet werden. \n",
    "\n",
    "So können E und F getauscht werden, damit E auch Eleminiert wird. Weitere Verbesserungen habe ich nicht gefunden. "
   ]
  },
  {
   "cell_type": "markdown",
   "id": "ca05c48a",
   "metadata": {
    "vscode": {
     "languageId": "plaintext"
    }
   },
   "source": [
    "# Games.02 Optimale Spiele: Minimax und alpha-beta-Pruning\n",
    "\n",
    "1. Implementieren Sie den Minimax-Algorithmus (wie in der VL besprochen) am Beispiel Tic Tac Toe in einer Sprache Ihrer Wahl.\n",
    "\n",
    "**Was brauche ich dafür?**\n",
    "- Zwei Spieler Min und Max \n",
    "    - Die Spieler müssen Züge tätigen können \n",
    "- Eine Bewertung des Endzustands eines Spielfelds \n",
    "    - +1 wenn Max gewinnt\n",
    "    - -1 wenn Min gewinnt\n",
    "    - 0 wenn Unentschieden\n",
    "- Suchbaum muss erstellt werden\n",
    "- \n",
    "\n",
    "Wie modelliere ich den Suchbaum geeignet?"
   ]
  },
  {
   "cell_type": "code",
   "execution_count": 20,
   "id": "acceb10b",
   "metadata": {},
   "outputs": [],
   "source": [
    "import sys \n",
    "\n",
    "class Node: \n",
    "    next_nodes = []\n",
    "    value = -2\n",
    "    spielfeld: list\n",
    "    player: str\n",
    "    move: int\n",
    "\n",
    "    def __init__(self, spielfeld = [' ']*9,  player = 'X', move=-1):\n",
    "        self.spielfeld = spielfeld\n",
    "        self.player = player\n",
    "        self.move = move\n",
    "\n",
    "    def change_player(self):\n",
    "        return 'O' if self.player == 'X' else 'X'\n",
    "\n",
    "    def next_nodes(self) -> list:\n",
    "        childs = []\n",
    "        for i in range(9):\n",
    "            if self.spielfeld[i] == ' ':\n",
    "                new_spielfeld = self.spielfeld.copy()\n",
    "                new_spielfeld[i] = self.player\n",
    "                new_child = Node(spielfeld=new_spielfeld, player=self.change_player())\n",
    "                childs.append((new_child, self.player+str(i)))                \n",
    "        return childs\n",
    "\n",
    "\n",
    "    def __str__(self):\n",
    "        return f\"\"\"Spielfeld:\n",
    "                 {self.spielfeld[0]} | {self.spielfeld[1]} | {self.spielfeld[2]}\n",
    "                ---|---|---\n",
    "                 {self.spielfeld[3]} | {self.spielfeld[4]} | {self.spielfeld[3]}\n",
    "                ---|---|---\n",
    "                 {self.spielfeld[4]} | {self.spielfeld[5]} | {self.spielfeld[6]}\"\"\"\n",
    "\n",
    "class Tiktaktoe: \n",
    "    spielfeld = [' ']*9\n",
    "    searchtree = Node()\n",
    "\n",
    "\n",
    "    def __init__(self):\n",
    "        pass\n",
    "\n",
    "    def __str__(self):\n",
    "        return f\"\"\"Spielfeld:\n",
    "                 {self.spielfeld[0]} | {self.spielfeld[1]} | {self.spielfeld[2]}\n",
    "                ---|---|---\n",
    "                 {self.spielfeld[3]} | {self.spielfeld[4]} | {self.spielfeld[3]}\n",
    "                ---|---|---\n",
    "                 {self.spielfeld[4]} | {self.spielfeld[5]} | {self.spielfeld[6]}\"\"\"\n",
    "\n",
    "\n",
    "\n",
    "    def utility(self):\n",
    "        pass\n",
    "        \n",
    "    def Utility(self, node: Node) -> int:\n",
    "        win_positions = [\n",
    "        (0, 1, 2), (3, 4, 5), (6, 7, 8),  # Reihen\n",
    "        (0, 3, 6), (1, 4, 7), (2, 5, 8),  # Spalten\n",
    "        (0, 4, 8), (2, 4, 6)              # Diagonalen\n",
    "        ]\n",
    "        for a, b, c in win_positions:\n",
    "            if node.spielfeld[a] != \" \" and node.spielfeld[a] == node.spielfeld[b] == node.spielfeld[c]:\n",
    "                return 1 if node.player == 'X' else -1\n",
    "        if \" \" not in node.spielfeld:\n",
    "            return 0\n",
    "        return 0\n",
    "        \n",
    "    def isTerminal(self, node): \n",
    "        if self.Utility(node) != 0: \n",
    "            return True\n",
    "\n",
    "        elif \" \" not in node.spielfeld:\n",
    "            return True\n",
    "\n",
    "        return False\n",
    "\n",
    "\n",
    "    def maxValue(self, state):\n",
    "        if self.isTerminal(state): return self.Utility(state)\n",
    "\n",
    "        self.count_minmax += 1\n",
    "\n",
    "        v = -999999999999\n",
    "        for (s, a) in state.next_nodes():\n",
    "            v = max(v, self.minValue(s))\n",
    "        return v\n",
    "\n",
    "    def minValue(self, state):\n",
    "        if self.isTerminal(state): return self.Utility(state)\n",
    "\n",
    "        self.count_minmax += 1\n",
    "\n",
    "        v = 9999999999999\n",
    "        for (s, a) in state.next_nodes():\n",
    "            v = min(v, self.maxValue(s))\n",
    "        return v\n",
    "\n",
    "    def minimax(self, state):\n",
    "        val = -999999\n",
    "        self.count_minmax = 0\n",
    "        action = None\n",
    "        for (s, a) in state.next_nodes():\n",
    "            v = self.minValue(s)\n",
    "            if (val <= v):\n",
    "                (val, action) = (v, a)\n",
    "        return action\n",
    "\n",
    "    def minimax_alphabeta(self, state):\n",
    "        val = -999999\n",
    "        self.count_minmaxalphabeta = 0\n",
    "        action = None\n",
    "        for (s, a) in state.next_nodes():\n",
    "            v = self.minValue_alphabeta(s, -99999999, +99999999)\n",
    "            if (val <= v):\n",
    "                (val, action) = (v, a)\n",
    "        return action\n",
    "\n",
    "    def maxValue_alpabeta(self, state, alpha, beta):\n",
    "        if self.isTerminal(state): return self.Utility(state)\n",
    "\n",
    "        self.count_minmaxalphabeta += 1\n",
    "\n",
    "        v = -9999999999999999\n",
    "        for (s, a) in state.next_nodes():\n",
    "            v = max(v, self.minValue_alphabeta(s, alpha, beta))\n",
    "            if (v >= beta): return v\n",
    "            alpha = max(alpha, v)\n",
    "        return v\n",
    "\n",
    "    def minValue_alphabeta(self, state, alpha, beta):\n",
    "        if self.isTerminal(state): return self.Utility(state)\n",
    "\n",
    "        self.count_minmaxalphabeta += 1\n",
    "\n",
    "        v = +99999999999999999\n",
    "        for (s, a) in state.next_nodes():\n",
    "            v = min(v, self.maxValue_alpabeta(s, alpha, beta))\n",
    "            if (v <= alpha): return v\n",
    "            beta = min(beta, v)\n",
    "        return v\n",
    "\n",
    "    def run(self):\n",
    "        pass"
   ]
  },
  {
   "cell_type": "code",
   "execution_count": 21,
   "id": "1c26a602",
   "metadata": {},
   "outputs": [
    {
     "name": "stdout",
     "output_type": "stream",
     "text": [
      "X4\n"
     ]
    },
    {
     "data": {
      "text/plain": [
       "294777"
      ]
     },
     "execution_count": 21,
     "metadata": {},
     "output_type": "execute_result"
    }
   ],
   "source": [
    "t = Tiktaktoe()\n",
    "print(t.minimax(Node()))\n",
    "t.count_minmax"
   ]
  },
  {
   "cell_type": "code",
   "execution_count": 22,
   "id": "fcf445e2",
   "metadata": {},
   "outputs": [
    {
     "name": "stdout",
     "output_type": "stream",
     "text": [
      "X4\n"
     ]
    },
    {
     "data": {
      "text/plain": [
       "11155"
      ]
     },
     "execution_count": 22,
     "metadata": {},
     "output_type": "execute_result"
    }
   ],
   "source": [
    "print(t.minimax_alphabeta(Node()))\n",
    "t.count_minmaxalphabeta"
   ]
  },
  {
   "cell_type": "markdown",
   "id": "96c83578",
   "metadata": {},
   "source": [
    "Wir können sehen, dass beim Algorithmus mit Alpha Beta pruning eine erhebliche reduktion der zu Untersuchenden Fälle entsteht. 294777 zu 11155. Das ist ungefähr 26x kleiner. "
   ]
  },
  {
   "cell_type": "markdown",
   "id": "bb61e34f",
   "metadata": {},
   "source": [
    "# Games.03 Minimax vereinfachen\n",
    "\n",
    "Vereinfachen Sie den Minimax-Algorithmus aus der Vorlesung, indem Sie die Eigenschaft Nullsummenspiel berücksichtigen und die Funktionen Min-Value und Max-Value in eine einzige Funktion ohne explizite Unterscheidung der Spieler zusammenfassen.\n",
    "\n",
    "Wie? \n",
    "\n",
    "Ich muss doch schauen welcher Spieler gerade dran ist um den besten Zug für den jeweiligen Spieler zu bestimmen. \n",
    "Aber ich muss nicht wissen welcher Spieler gerade dran ist um das Spielfeld zu bewerten. \n",
    "Ich schätze Mal mit \"Spieler\" sind min und max und nicht der Spieler X und O"
   ]
  },
  {
   "cell_type": "code",
   "execution_count": 51,
   "id": "7885d919",
   "metadata": {},
   "outputs": [],
   "source": [
    "class minmax_2(Tiktaktoe):\n",
    "    def minimax_ez(self, state, alpha, beta, player):\n",
    "        if self.isTerminal(state): return self.Utility(state)\n",
    "\n",
    "        v = 0\n",
    "        for (s, a) in state.next_nodes():\n",
    "            if player == 'X':\n",
    "                v = -9999999999999\n",
    "                v = max(v, self.minimax_ez(s, alpha, beta, 'O'))\n",
    "                if (v >= beta): return v\n",
    "                alpha = max(alpha, v)\n",
    "            elif player == 'O':\n",
    "                v = +9999999999999\n",
    "                v = min(v, self.minimax_ez(s, alpha, beta, 'X'))\n",
    "                if (v <= alpha): return v\n",
    "                beta = min(beta, v)\n",
    "            else:\n",
    "                raise(TypeError('Oh oh'))\n",
    "        return v"
   ]
  },
  {
   "cell_type": "code",
   "execution_count": 52,
   "id": "df8bba48",
   "metadata": {},
   "outputs": [
    {
     "data": {
      "text/plain": [
       "-1"
      ]
     },
     "execution_count": 52,
     "metadata": {},
     "output_type": "execute_result"
    }
   ],
   "source": [
    "m = minmax_2()\n",
    "m.minimax_ez(Node(), -99999999, +9999999, 'X')"
   ]
  },
  {
   "cell_type": "markdown",
   "id": "262871cf",
   "metadata": {},
   "source": [
    "Ich weiß nicht wovon ich den Beispielbaum nehmen soll. Die Bewertung von dem Minimax Algorithmus und meinem Vereinfachten Algorithmus sollte eigentlich gleich sein. "
   ]
  },
  {
   "cell_type": "markdown",
   "id": "87238fcb",
   "metadata": {},
   "source": [
    "# Games.04 Suchtiefe begrenzen \n",
    "\n",
    "Eval(s)=3X2(s)+X1(s)−(3O2(s)+O1(s))\n",
    "\n",
    "Bsp. 1 \n",
    "\n",
    "|   |   |   |\n",
    "|---|---|---|\n",
    "| X | X | X |\n",
    "| O | O |   |\n",
    "\n",
    "\n",
    "X_3 = 1 \n",
    "O_3 = 0\n",
    "Util = 1 \n",
    "\n",
    "Bsp. 2\n",
    "\n",
    "| O | X | O |\n",
    "|---|---|---|\n",
    "| X | O | X |\n",
    "| X | X | O |\n",
    "\n",
    "X_3 = 0 \n",
    "O_3 = 1\n",
    "\n",
    "Util = -1\n",
    "\n",
    "Bsp. 3 \n",
    "\n",
    "| X | O | O |\n",
    "|---|---|---|\n",
    "| X | X | O |\n",
    "| X | O |   |\n",
    "\n",
    "X_3 = 1 \n",
    "0_3 = 0\n",
    "\n",
    "Util = 1\n",
    "\n",
    "\n",
    "Bsp. 4 \n",
    "\n",
    "| O | X | O |\n",
    "|---|---|---|\n",
    "| X | O |   |\n",
    "| X |   |   |\n",
    "\n",
    "$Eval(s) = 3*0+1 - (3*1+1) = -3$\n",
    "\n",
    "Bsp. 5 \n",
    "\n",
    "\n",
    "| O | O |   |\n",
    "|---|---|---|\n",
    "| X | O | X |\n",
    "| X |   |   |\n",
    "\n",
    "\n",
    "$Eval(s) = 0*3+1-(3*3-0) = -8$\n",
    "\n",
    "Bsp. 6\n",
    "\n",
    "| X | X | O |\n",
    "|---|---|---|\n",
    "| X | X | O |\n",
    "| O | O |\n",
    "\n",
    "$Eval(s) = 0 - (3*2+0) = -6$\n"
   ]
  },
  {
   "cell_type": "markdown",
   "id": "788dd671",
   "metadata": {},
   "source": [
    "# Games.05: Minimax generalisiert \n",
    "\n",
    "![spielbaum_mehrspieler.png](spielbaum_mehrspieler.png)"
   ]
  }
 ],
 "metadata": {
  "kernelspec": {
   "display_name": ".venv (3.13.7)",
   "language": "python",
   "name": "python3"
  },
  "language_info": {
   "codemirror_mode": {
    "name": "ipython",
    "version": 3
   },
   "file_extension": ".py",
   "mimetype": "text/x-python",
   "name": "python",
   "nbconvert_exporter": "python",
   "pygments_lexer": "ipython3",
   "version": "3.13.7"
  }
 },
 "nbformat": 4,
 "nbformat_minor": 5
}
